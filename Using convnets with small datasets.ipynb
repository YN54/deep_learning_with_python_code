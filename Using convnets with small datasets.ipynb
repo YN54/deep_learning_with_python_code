{
 "cells": [
  {
   "cell_type": "code",
   "execution_count": 1,
   "metadata": {},
   "outputs": [
    {
     "name": "stderr",
     "output_type": "stream",
     "text": [
      "Using TensorFlow backend.\n"
     ]
    }
   ],
   "source": [
    "import keras"
   ]
  },
  {
   "cell_type": "code",
   "execution_count": 2,
   "metadata": {},
   "outputs": [],
   "source": [
    "#将图像复制到训练、验证和测试目录\n",
    "import os, shutil\n",
    "\n",
    "#原始数据集解压目录的路径\n",
    "original_dataset_dir = 'kaggle_original_data\\\\train'\n",
    "\n",
    "#保存较小数据集的目录\n",
    "base_dir = 'cats_and_dogs_small'\n",
    "os.mkdir(base_dir)\n",
    "\n",
    "#划分后的训练、验证和测试的目录\n",
    "train_dir = os.path.join(base_dir,'train')\n",
    "os.mkdir(train_dir)\n",
    "validation_dir = os.path.join(base_dir,'valiadation')\n",
    "os.mkdir(validation_dir)\n",
    "test_dir = os.path.join(base_dir,'test')\n",
    "os.mkdir(test_dir)\n",
    "\n",
    "#猫的训练图像目录\n",
    "train_cats_dir = os.path.join(train_dir,'cats')\n",
    "os.mkdir(train_cats_dir)\n",
    "\n",
    "#狗的训练图像目录\n",
    "train_dogs_dir = os.path.join(train_dir, 'dogs')\n",
    "os.mkdir(train_dogs_dir)\n",
    "\n",
    "#猫的验证图像目录\n",
    "validation_cats_dir = os.path.join(validation_dir, 'cats')\n",
    "os.mkdir(validation_cats_dir)\n",
    "\n",
    "#狗的验证图像目录\n",
    "validation_dogs_dir = os.path.join(validation_dir, 'dogs')\n",
    "os.mkdir(validation_dogs_dir)\n",
    "\n",
    "#猫的测试图像目录\n",
    "test_cats_dir = os.path.join(test_dir, 'cats')\n",
    "os.mkdir(test_cats_dir)\n",
    "\n",
    "#狗的测试图像目录\n",
    "test_dogs_dir = os.path.join(test_dir, 'dogs')\n",
    "os.mkdir(test_dogs_dir)\n",
    "\n",
    "#将前1000张猫的图像复制到train_cat_dir\n",
    "fnames = ['cat.{}.jpg'.format(i) for i in range(1000)]\n",
    "for fname in fnames:\n",
    "    src = os.path.join(original_dataset_dir, fname)\n",
    "    dst = os.path.join(train_cats_dir, fname)\n",
    "    shutil.copyfile(src, dst)\n",
    "\n",
    "#将接下来的500张猫的图像复制到validation_cats_dir\n",
    "fnames = ['cat.{}.jpg'.format(i) for i in range(1000, 1500)]\n",
    "for fname in fnames:\n",
    "    src = os.path.join(original_dataset_dir, fname)\n",
    "    dst = os.path.join(validation_cats_dir, fname)\n",
    "    shutil.copyfile(src, dst)\n",
    "    \n",
    "#将接下来的500张猫的图像复制到test_cats_dir\n",
    "fnames = ['cat.{}.jpg'.format(i) for i in range(1500, 2000)]\n",
    "for fname in fnames:\n",
    "    src = os.path.join(original_dataset_dir, fname)\n",
    "    dst = os.path.join(test_cats_dir, fname)\n",
    "    shutil.copyfile(src, dst)\n",
    "    \n",
    "#将前1000张狗的图像复制到train_dogs_dir\n",
    "fnames = ['dog.{}.jpg'.format(i) for i in range(1000)]\n",
    "for fname in fnames:\n",
    "    src = os.path.join(original_dataset_dir, fname)\n",
    "    dst = os.path.join(train_dogs_dir, fname)\n",
    "    shutil.copyfile(src, dst)\n",
    "    \n",
    "#将接下来的500张狗的图像复制到validation_dogs_dir\n",
    "fnames = ['dog.{}.jpg'.format(i) for i in range(1000, 1500)]\n",
    "for fname in fnames:\n",
    "    src = os.path.join(original_dataset_dir, fname)\n",
    "    dst = os.path.join(validation_dogs_dir, fname)\n",
    "    shutil.copyfile(src, dst)\n",
    "    \n",
    "#将接下来的500张猫的图像复制到test_dogs_dir\n",
    "fnames = ['dog.{}.jpg'.format(i) for i in range(1500, 2000)]\n",
    "for fname in fnames:\n",
    "    src = os.path.join(original_dataset_dir, fname)\n",
    "    dst = os.path.join(test_dogs_dir, fname)\n",
    "    shutil.copyfile(src, dst)"
   ]
  },
  {
   "cell_type": "markdown",
   "metadata": {},
   "source": [
    "检查每个分组中分别包含多少张图像"
   ]
  },
  {
   "cell_type": "code",
   "execution_count": 3,
   "metadata": {},
   "outputs": [
    {
     "name": "stdout",
     "output_type": "stream",
     "text": [
      "total training cat images:  1000\n"
     ]
    }
   ],
   "source": [
    "print('total training cat images: ', len(os.listdir(train_cats_dir)))"
   ]
  },
  {
   "cell_type": "code",
   "execution_count": 4,
   "metadata": {},
   "outputs": [
    {
     "name": "stdout",
     "output_type": "stream",
     "text": [
      "total training dog images:  1000\n"
     ]
    }
   ],
   "source": [
    "print('total training dog images: ', len(os.listdir(train_dogs_dir)))"
   ]
  },
  {
   "cell_type": "code",
   "execution_count": 5,
   "metadata": {},
   "outputs": [
    {
     "name": "stdout",
     "output_type": "stream",
     "text": [
      "total validation cat images:  500\n"
     ]
    }
   ],
   "source": [
    "print('total validation cat images: ', len(os.listdir(validation_cats_dir)))"
   ]
  },
  {
   "cell_type": "code",
   "execution_count": 6,
   "metadata": {},
   "outputs": [
    {
     "name": "stdout",
     "output_type": "stream",
     "text": [
      "total validation dog images:  500\n"
     ]
    }
   ],
   "source": [
    "print('total validation dog images: ', len(os.listdir(validation_dogs_dir)))"
   ]
  },
  {
   "cell_type": "code",
   "execution_count": 7,
   "metadata": {},
   "outputs": [
    {
     "name": "stdout",
     "output_type": "stream",
     "text": [
      "total test cat images:  500\n"
     ]
    }
   ],
   "source": [
    "print('total test cat images: ', len(os.listdir(test_cats_dir)))"
   ]
  },
  {
   "cell_type": "code",
   "execution_count": 8,
   "metadata": {},
   "outputs": [
    {
     "name": "stdout",
     "output_type": "stream",
     "text": [
      "total test dog images:  500\n"
     ]
    }
   ],
   "source": [
    "print('total test dog images: ', len(os.listdir(test_dogs_dir)))"
   ]
  },
  {
   "cell_type": "markdown",
   "metadata": {},
   "source": [
    "构建网络"
   ]
  },
  {
   "cell_type": "code",
   "execution_count": 9,
   "metadata": {},
   "outputs": [],
   "source": [
    "from keras import layers\n",
    "from keras import models\n",
    "\n",
    "model = models.Sequential()\n",
    "model.add(layers.Conv2D(32,(3,3),activation='relu',input_shape=(150,150,3)))\n",
    "model.add(layers.MaxPooling2D((2,2)))\n",
    "model.add(layers.Conv2D(64,(3,3),activation='relu'))\n",
    "model.add(layers.MaxPooling2D((2,2)))\n",
    "model.add(layers.Conv2D(128,(3,3),activation='relu'))\n",
    "model.add(layers.MaxPooling2D((2,2)))\n",
    "model.add(layers.Conv2D(128,(3,3),activation='relu'))\n",
    "model.add(layers.MaxPooling2D((2,2)))\n",
    "model.add(layers.Flatten())\n",
    "model.add(layers.Dense(512,activation='relu'))\n",
    "model.add(layers.Dense(1,activation='sigmoid'))"
   ]
  },
  {
   "cell_type": "code",
   "execution_count": 10,
   "metadata": {},
   "outputs": [
    {
     "name": "stdout",
     "output_type": "stream",
     "text": [
      "Model: \"sequential_1\"\n",
      "_________________________________________________________________\n",
      "Layer (type)                 Output Shape              Param #   \n",
      "=================================================================\n",
      "conv2d_1 (Conv2D)            (None, 148, 148, 32)      896       \n",
      "_________________________________________________________________\n",
      "max_pooling2d_1 (MaxPooling2 (None, 74, 74, 32)        0         \n",
      "_________________________________________________________________\n",
      "conv2d_2 (Conv2D)            (None, 72, 72, 64)        18496     \n",
      "_________________________________________________________________\n",
      "max_pooling2d_2 (MaxPooling2 (None, 36, 36, 64)        0         \n",
      "_________________________________________________________________\n",
      "conv2d_3 (Conv2D)            (None, 34, 34, 128)       73856     \n",
      "_________________________________________________________________\n",
      "max_pooling2d_3 (MaxPooling2 (None, 17, 17, 128)       0         \n",
      "_________________________________________________________________\n",
      "conv2d_4 (Conv2D)            (None, 15, 15, 128)       147584    \n",
      "_________________________________________________________________\n",
      "max_pooling2d_4 (MaxPooling2 (None, 7, 7, 128)         0         \n",
      "_________________________________________________________________\n",
      "flatten_1 (Flatten)          (None, 6272)              0         \n",
      "_________________________________________________________________\n",
      "dense_1 (Dense)              (None, 512)               3211776   \n",
      "_________________________________________________________________\n",
      "dense_2 (Dense)              (None, 1)                 513       \n",
      "=================================================================\n",
      "Total params: 3,453,121\n",
      "Trainable params: 3,453,121\n",
      "Non-trainable params: 0\n",
      "_________________________________________________________________\n"
     ]
    }
   ],
   "source": [
    "model.summary()"
   ]
  },
  {
   "cell_type": "code",
   "execution_count": 11,
   "metadata": {},
   "outputs": [],
   "source": [
    "#配置模型用于训练\n",
    "from keras import optimizers\n",
    "model.compile(loss='binary_crossentropy',optimizer=optimizers.RMSprop(lr=1e-4),metrics=['acc'])"
   ]
  },
  {
   "cell_type": "markdown",
   "metadata": {},
   "source": [
    "数据预处理"
   ]
  },
  {
   "cell_type": "code",
   "execution_count": 12,
   "metadata": {},
   "outputs": [
    {
     "name": "stdout",
     "output_type": "stream",
     "text": [
      "Found 2000 images belonging to 2 classes.\n",
      "Found 1000 images belonging to 2 classes.\n"
     ]
    }
   ],
   "source": [
    "#使用ImageDataGenerator从目录中读取图像\n",
    "from keras.preprocessing.image import ImageDataGenerator\n",
    "\n",
    "#所有图像乘以1/255缩放\n",
    "train_datagen = ImageDataGenerator(rescale=1./255)\n",
    "test_datagen = ImageDataGenerator(rescale=1./255)\n",
    "\n",
    "train_generator = train_datagen.flow_from_directory(\n",
    "        train_dir,                       #目标目录\n",
    "        target_size=(150,150),            # 将所有图像大小调整为150*150\n",
    "        batch_size=20,               \n",
    "        class_mode='binary')             # 因为使用了binary_crossentropy损失，所以用二进制标签\n",
    "\n",
    "validation_generator = test_datagen.flow_from_directory(\n",
    "        test_dir,                       \n",
    "        target_size=(150,150),            \n",
    "        batch_size=20,              \n",
    "        class_mode='binary')"
   ]
  },
  {
   "cell_type": "code",
   "execution_count": 13,
   "metadata": {},
   "outputs": [
    {
     "name": "stdout",
     "output_type": "stream",
     "text": [
      "data batch shape: (20, 150, 150, 3)\n",
      "labels batch shape: (20,)\n"
     ]
    }
   ],
   "source": [
    "#其中一个生成器的输出\n",
    "for data_batch,labels_batch in train_generator:\n",
    "    print('data batch shape:',data_batch.shape)\n",
    "    print('labels batch shape:',labels_batch.shape)\n",
    "    break"
   ]
  },
  {
   "cell_type": "code",
   "execution_count": 14,
   "metadata": {},
   "outputs": [
    {
     "name": "stdout",
     "output_type": "stream",
     "text": [
      "Epoch 1/30\n",
      "100/100 [==============================] - 52s 521ms/step - loss: 0.6899 - acc: 0.5240 - val_loss: 0.6268 - val_acc: 0.6290\n",
      "Epoch 2/30\n",
      "100/100 [==============================] - 52s 516ms/step - loss: 0.6514 - acc: 0.6230 - val_loss: 0.5954 - val_acc: 0.6600\n",
      "Epoch 3/30\n",
      "100/100 [==============================] - 52s 523ms/step - loss: 0.6056 - acc: 0.6695 - val_loss: 0.7909 - val_acc: 0.5600\n",
      "Epoch 4/30\n",
      "100/100 [==============================] - 51s 508ms/step - loss: 0.5696 - acc: 0.7115 - val_loss: 0.5891 - val_acc: 0.6750\n",
      "Epoch 5/30\n",
      "100/100 [==============================] - 51s 506ms/step - loss: 0.5445 - acc: 0.7280 - val_loss: 0.6340 - val_acc: 0.6870\n",
      "Epoch 6/30\n",
      "100/100 [==============================] - 51s 505ms/step - loss: 0.5147 - acc: 0.7435 - val_loss: 0.4345 - val_acc: 0.7080\n",
      "Epoch 7/30\n",
      "100/100 [==============================] - 51s 507ms/step - loss: 0.4940 - acc: 0.7535 - val_loss: 0.6297 - val_acc: 0.6770\n",
      "Epoch 8/30\n",
      "100/100 [==============================] - 51s 509ms/step - loss: 0.4682 - acc: 0.7790 - val_loss: 0.5675 - val_acc: 0.6980\n",
      "Epoch 9/30\n",
      "100/100 [==============================] - 50s 497ms/step - loss: 0.4335 - acc: 0.8025 - val_loss: 0.7458 - val_acc: 0.6670\n",
      "Epoch 10/30\n",
      "100/100 [==============================] - 50s 495ms/step - loss: 0.4078 - acc: 0.8205 - val_loss: 0.6387 - val_acc: 0.6590\n",
      "Epoch 11/30\n",
      "100/100 [==============================] - 49s 493ms/step - loss: 0.3835 - acc: 0.8365 - val_loss: 0.6088 - val_acc: 0.6900\n",
      "Epoch 12/30\n",
      "100/100 [==============================] - 49s 493ms/step - loss: 0.3666 - acc: 0.8375 - val_loss: 0.5060 - val_acc: 0.7380\n",
      "Epoch 13/30\n",
      "100/100 [==============================] - 49s 493ms/step - loss: 0.3496 - acc: 0.8490 - val_loss: 0.4869 - val_acc: 0.7410\n",
      "Epoch 14/30\n",
      "100/100 [==============================] - 1945s 19s/step - loss: 0.3234 - acc: 0.8645 - val_loss: 0.7556 - val_acc: 0.7390\n",
      "Epoch 15/30\n",
      "100/100 [==============================] - 65s 653ms/step - loss: 0.2978 - acc: 0.8715 - val_loss: 0.5767 - val_acc: 0.7430\n",
      "Epoch 16/30\n",
      "100/100 [==============================] - 62s 624ms/step - loss: 0.2758 - acc: 0.8855 - val_loss: 0.4471 - val_acc: 0.7270\n",
      "Epoch 17/30\n",
      "100/100 [==============================] - 60s 604ms/step - loss: 0.2562 - acc: 0.8920 - val_loss: 0.5258 - val_acc: 0.7290\n",
      "Epoch 18/30\n",
      "100/100 [==============================] - 58s 585ms/step - loss: 0.2303 - acc: 0.9115 - val_loss: 0.2672 - val_acc: 0.7380\n",
      "Epoch 19/30\n",
      "100/100 [==============================] - 63s 633ms/step - loss: 0.2109 - acc: 0.9140 - val_loss: 0.6320 - val_acc: 0.7320\n",
      "Epoch 20/30\n",
      "100/100 [==============================] - 70s 701ms/step - loss: 0.1981 - acc: 0.9250 - val_loss: 0.4362 - val_acc: 0.7370\n",
      "Epoch 21/30\n",
      "100/100 [==============================] - 62s 622ms/step - loss: 0.1788 - acc: 0.9350 - val_loss: 0.7897 - val_acc: 0.7180\n",
      "Epoch 22/30\n",
      "100/100 [==============================] - 59s 593ms/step - loss: 0.1587 - acc: 0.9470 - val_loss: 0.3626 - val_acc: 0.7160\n",
      "Epoch 23/30\n",
      "100/100 [==============================] - 58s 582ms/step - loss: 0.1372 - acc: 0.9525 - val_loss: 1.4251 - val_acc: 0.7430\n",
      "Epoch 24/30\n",
      "100/100 [==============================] - 56s 563ms/step - loss: 0.1231 - acc: 0.9630 - val_loss: 1.0620 - val_acc: 0.7260\n",
      "Epoch 25/30\n",
      "100/100 [==============================] - 58s 579ms/step - loss: 0.1173 - acc: 0.9595 - val_loss: 1.0801 - val_acc: 0.7190\n",
      "Epoch 26/30\n",
      "100/100 [==============================] - 57s 568ms/step - loss: 0.0934 - acc: 0.9710 - val_loss: 1.2692 - val_acc: 0.7350\n",
      "Epoch 27/30\n",
      "100/100 [==============================] - 65s 650ms/step - loss: 0.0859 - acc: 0.9745 - val_loss: 0.8100 - val_acc: 0.7160\n",
      "Epoch 28/30\n",
      "100/100 [==============================] - 72s 722ms/step - loss: 0.0734 - acc: 0.9795 - val_loss: 0.6701 - val_acc: 0.7300\n",
      "Epoch 29/30\n",
      "100/100 [==============================] - 63s 631ms/step - loss: 0.0639 - acc: 0.9825 - val_loss: 1.4814 - val_acc: 0.7350\n",
      "Epoch 30/30\n",
      "100/100 [==============================] - 70s 696ms/step - loss: 0.0517 - acc: 0.9890 - val_loss: 0.6211 - val_acc: 0.7340\n"
     ]
    }
   ],
   "source": [
    "#利用批量生成器拟合模型\n",
    "history = model.fit_generator(\n",
    "        train_generator,\n",
    "        steps_per_epoch=100,\n",
    "        epochs=30,\n",
    "        validation_data=validation_generator,\n",
    "        validation_steps=50)"
   ]
  },
  {
   "cell_type": "code",
   "execution_count": 15,
   "metadata": {},
   "outputs": [],
   "source": [
    "#保存模型\n",
    "model.save('cats_and_dogs_small_1.h5')"
   ]
  },
  {
   "cell_type": "code",
   "execution_count": 16,
   "metadata": {},
   "outputs": [
    {
     "data": {
      "text/plain": [
       "<Figure size 640x480 with 1 Axes>"
      ]
     },
     "metadata": {},
     "output_type": "display_data"
    },
    {
     "data": {
      "text/plain": [
       "<Figure size 640x480 with 1 Axes>"
      ]
     },
     "metadata": {},
     "output_type": "display_data"
    }
   ],
   "source": [
    "#绘制训练过程中的损失曲线和精度曲线\n",
    "import matplotlib.pyplot as plt\n",
    "\n",
    "acc = history.history['acc']\n",
    "val_acc = history.history['val_acc']\n",
    "loss = history.history['loss']\n",
    "val_loss = history.history['val_loss']\n",
    "\n",
    "epochs = range(len(acc))\n",
    "\n",
    "plt.plot(epochs,acc,'bo',label='Training acc')\n",
    "plt.plot(epochs,val_acc,'b',label='Validation acc')\n",
    "plt.title('Training and validation accuracy')\n",
    "plt.legend()\n",
    "\n",
    "plt.figure()\n",
    "\n",
    "plt.plot(epochs,loss,'bo',label='Training loss')\n",
    "plt.plot(epochs,val_loss,'b',label='Validation loss')\n",
    "plt.title('Training and validation loss')\n",
    "plt.legend()\n",
    "\n",
    "plt.show()"
   ]
  },
  {
   "cell_type": "markdown",
   "metadata": {},
   "source": [
    "训练精度随时间线性增加，直到接近100%，而验证精度则停留在70%左右\n",
    "验证损失在5轮后就达到最小值，然后保持不变，而训练损失一直线性下降直到接近0"
   ]
  },
  {
   "cell_type": "markdown",
   "metadata": {},
   "source": [
    "\n",
    "\n",
    "使用数据增强"
   ]
  },
  {
   "cell_type": "code",
   "execution_count": 17,
   "metadata": {},
   "outputs": [],
   "source": [
    "#利用ImageDataGenerator来设置数据增强\n",
    "datagen = ImageDataGenerator(\n",
    "        rotation_range=40,     #角度值（在0—180范围内），表示图像随机旋转的角度范围\n",
    "        width_shift_range=0.2, #图像在水平或垂直方向上平移的范围（相对于总宽度或总高度的比例）\n",
    "        height_shift_range=0.2,\n",
    "        shear_range=0.2,       #随机错切变换的角度\n",
    "        zoom_range=0.2,        #图像随机缩放的范围\n",
    "        horizontal_flip=True,  #随机将一半图像水平翻转\n",
    "        fill_mode='nearest')   #填充新创建像素的方法"
   ]
  },
  {
   "cell_type": "code",
   "execution_count": 21,
   "metadata": {},
   "outputs": [],
   "source": [
    "#显示几个随机增强后的训练图像\n",
    "from keras.preprocessing import image\n",
    "\n",
    "fnames = [os.path.join(train_cats_dir,fname) for fname in os.listdir(train_cats_dir)]\n",
    "\n",
    "#选择一张图像进行增强\n",
    "img_path = fnames[3]\n",
    "\n",
    "#读取图像大小并调整大小\n",
    "img = image.load_img(img_path,target_size=(150,150))\n",
    "\n",
    "#转换为(150,150,3)的numpy数组\n",
    "x = image.img_to_array(img)\n",
    "\n",
    "#将形状转换为(1,150,150,3)\n",
    "x = x.reshape((1,)+x.shape)\n",
    "\n",
    "\n",
    "#生成随机变换后的图像批量，循环是无限的所以要在某个时刻终止\n",
    "#i=0\n",
    "#for batch in datagen.flow(x,batch_size=1):\n",
    "#   plt.figure(i)\n",
    "#   imgplot=plt.imshow(image.array_to_img(batch[0]))\n",
    "#    i+=1\n",
    "#    if 1%4==0:\n",
    "#       break\n",
    "#plt.show()\n"
   ]
  },
  {
   "cell_type": "code",
   "execution_count": 22,
   "metadata": {},
   "outputs": [],
   "source": [
    "from keras import models\n",
    "from keras import layers\n",
    "#定义一个包含dropout的新卷积神经网络(降低过拟合)\n",
    "model = models.Sequential()\n",
    "model.add(layers.Conv2D(32,(3,3),activation='relu',input_shape=(150,150,3)))\n",
    "model.add(layers.MaxPooling2D((2,2)))\n",
    "model.add(layers.Conv2D(64, (3, 3), activation='relu'))\n",
    "model.add(layers.MaxPooling2D((2, 2)))\n",
    "model.add(layers.Conv2D(128, (3, 3), activation='relu'))\n",
    "model.add(layers.MaxPooling2D((2, 2)))\n",
    "model.add(layers.Conv2D(128, (3, 3), activation='relu'))\n",
    "model.add(layers.MaxPooling2D((2, 2)))\n",
    "model.add(layers.Flatten())\n",
    "model.add(layers.Dropout(0.5))\n",
    "model.add(layers.Dense(512, activation='relu'))\n",
    "model.add(layers.Dense(1, activation='sigmoid'))\n",
    "\n",
    "model.compile(loss='binary_crossentropy',optimizer=optimizers.RMSprop(lr=1e-4),metrics=['acc'])"
   ]
  },
  {
   "cell_type": "code",
   "execution_count": 24,
   "metadata": {
    "scrolled": false
   },
   "outputs": [
    {
     "name": "stdout",
     "output_type": "stream",
     "text": [
      "Found 2000 images belonging to 2 classes.\n",
      "Found 1000 images belonging to 2 classes.\n",
      "Epoch 1/100\n",
      "100/100 [==============================] - 95s 947ms/step - loss: 0.6915 - acc: 0.5297 - val_loss: 0.6773 - val_acc: 0.5964\n",
      "Epoch 2/100\n",
      "100/100 [==============================] - 91s 914ms/step - loss: 0.6764 - acc: 0.5744 - val_loss: 0.6530 - val_acc: 0.5902\n",
      "Epoch 3/100\n",
      "100/100 [==============================] - 92s 917ms/step - loss: 0.6636 - acc: 0.5909 - val_loss: 0.6926 - val_acc: 0.5819\n",
      "Epoch 4/100\n",
      "100/100 [==============================] - 93s 928ms/step - loss: 0.6512 - acc: 0.6143 - val_loss: 0.6249 - val_acc: 0.6572\n",
      "Epoch 5/100\n",
      "100/100 [==============================] - 90s 903ms/step - loss: 0.6319 - acc: 0.6345 - val_loss: 0.6517 - val_acc: 0.6865\n",
      "Epoch 6/100\n",
      "100/100 [==============================] - 93s 931ms/step - loss: 0.6104 - acc: 0.6633 - val_loss: 0.5841 - val_acc: 0.6785\n",
      "Epoch 7/100\n",
      "100/100 [==============================] - 91s 908ms/step - loss: 0.6009 - acc: 0.6758 - val_loss: 0.5816 - val_acc: 0.6390\n",
      "Epoch 8/100\n",
      "100/100 [==============================] - 93s 928ms/step - loss: 0.5901 - acc: 0.6824 - val_loss: 0.6073 - val_acc: 0.6894\n",
      "Epoch 9/100\n",
      "100/100 [==============================] - 91s 907ms/step - loss: 0.5899 - acc: 0.6793 - val_loss: 0.5741 - val_acc: 0.7030\n",
      "Epoch 10/100\n",
      "100/100 [==============================] - 91s 908ms/step - loss: 0.5735 - acc: 0.7049 - val_loss: 0.4615 - val_acc: 0.6986\n",
      "Epoch 11/100\n",
      "100/100 [==============================] - 92s 920ms/step - loss: 0.5708 - acc: 0.6891 - val_loss: 0.6546 - val_acc: 0.6997\n",
      "Epoch 12/100\n",
      "100/100 [==============================] - 92s 915ms/step - loss: 0.5698 - acc: 0.6982 - val_loss: 0.5837 - val_acc: 0.7272\n",
      "Epoch 13/100\n",
      "100/100 [==============================] - 93s 931ms/step - loss: 0.5647 - acc: 0.7120 - val_loss: 0.5531 - val_acc: 0.7126\n",
      "Epoch 14/100\n",
      "100/100 [==============================] - 92s 923ms/step - loss: 0.5556 - acc: 0.7109 - val_loss: 0.5644 - val_acc: 0.7253\n",
      "Epoch 15/100\n",
      "100/100 [==============================] - 94s 942ms/step - loss: 0.5470 - acc: 0.7181 - val_loss: 0.4025 - val_acc: 0.7474\n",
      "Epoch 16/100\n",
      "100/100 [==============================] - 96s 956ms/step - loss: 0.5459 - acc: 0.7128 - val_loss: 0.2727 - val_acc: 0.7436\n",
      "Epoch 17/100\n",
      "100/100 [==============================] - 91s 907ms/step - loss: 0.5450 - acc: 0.7180 - val_loss: 0.5260 - val_acc: 0.7500\n",
      "Epoch 18/100\n",
      "100/100 [==============================] - 92s 920ms/step - loss: 0.5317 - acc: 0.7302 - val_loss: 0.5998 - val_acc: 0.7558\n",
      "Epoch 19/100\n",
      "100/100 [==============================] - 91s 913ms/step - loss: 0.5201 - acc: 0.7371 - val_loss: 0.4795 - val_acc: 0.7392\n",
      "Epoch 20/100\n",
      "100/100 [==============================] - 95s 948ms/step - loss: 0.5203 - acc: 0.7459 - val_loss: 0.4277 - val_acc: 0.7713\n",
      "Epoch 21/100\n",
      "100/100 [==============================] - 92s 923ms/step - loss: 0.5152 - acc: 0.7421 - val_loss: 0.5098 - val_acc: 0.7500\n",
      "Epoch 22/100\n",
      "100/100 [==============================] - 91s 910ms/step - loss: 0.5190 - acc: 0.7431 - val_loss: 0.5958 - val_acc: 0.7281\n",
      "Epoch 23/100\n",
      "100/100 [==============================] - 96s 961ms/step - loss: 0.5048 - acc: 0.7557 - val_loss: 0.5425 - val_acc: 0.7582\n",
      "Epoch 24/100\n",
      "100/100 [==============================] - 93s 932ms/step - loss: 0.5037 - acc: 0.7566 - val_loss: 0.5024 - val_acc: 0.7436\n",
      "Epoch 25/100\n",
      "100/100 [==============================] - 93s 931ms/step - loss: 0.5017 - acc: 0.7538 - val_loss: 0.4195 - val_acc: 0.7726\n",
      "Epoch 26/100\n",
      "100/100 [==============================] - 96s 958ms/step - loss: 0.5029 - acc: 0.7481 - val_loss: 0.4228 - val_acc: 0.7582\n",
      "Epoch 27/100\n",
      "100/100 [==============================] - 95s 945ms/step - loss: 0.4961 - acc: 0.7538 - val_loss: 0.5731 - val_acc: 0.7661\n",
      "Epoch 28/100\n",
      "100/100 [==============================] - 95s 946ms/step - loss: 0.4912 - acc: 0.7604 - val_loss: 0.5846 - val_acc: 0.7322\n",
      "Epoch 29/100\n",
      "100/100 [==============================] - 92s 916ms/step - loss: 0.4822 - acc: 0.7707 - val_loss: 0.5056 - val_acc: 0.7249\n",
      "Epoch 30/100\n",
      "100/100 [==============================] - 92s 924ms/step - loss: 0.4858 - acc: 0.7620 - val_loss: 0.6528 - val_acc: 0.7811\n",
      "Epoch 31/100\n",
      "100/100 [==============================] - 92s 920ms/step - loss: 0.4887 - acc: 0.7459 - val_loss: 0.4271 - val_acc: 0.7854\n",
      "Epoch 32/100\n",
      "100/100 [==============================] - 95s 948ms/step - loss: 0.4663 - acc: 0.7754 - val_loss: 0.4151 - val_acc: 0.7764\n",
      "Epoch 33/100\n",
      "100/100 [==============================] - 91s 908ms/step - loss: 0.4719 - acc: 0.7718 - val_loss: 0.4540 - val_acc: 0.7621\n",
      "Epoch 34/100\n",
      "100/100 [==============================] - 90s 897ms/step - loss: 0.4769 - acc: 0.7721 - val_loss: 0.4003 - val_acc: 0.7738\n",
      "Epoch 35/100\n",
      "100/100 [==============================] - 93s 927ms/step - loss: 0.4672 - acc: 0.7674 - val_loss: 0.3797 - val_acc: 0.7887\n",
      "Epoch 36/100\n",
      "100/100 [==============================] - 91s 910ms/step - loss: 0.4639 - acc: 0.7726 - val_loss: 0.6284 - val_acc: 0.7255\n",
      "Epoch 37/100\n",
      "100/100 [==============================] - 91s 909ms/step - loss: 0.4765 - acc: 0.7753 - val_loss: 0.4528 - val_acc: 0.7970\n",
      "Epoch 38/100\n",
      "100/100 [==============================] - 91s 909ms/step - loss: 0.4630 - acc: 0.7852 - val_loss: 0.3732 - val_acc: 0.7674\n",
      "Epoch 39/100\n",
      "100/100 [==============================] - 90s 901ms/step - loss: 0.4530 - acc: 0.7879 - val_loss: 0.4104 - val_acc: 0.7544\n",
      "Epoch 40/100\n",
      "100/100 [==============================] - 93s 935ms/step - loss: 0.4414 - acc: 0.7898 - val_loss: 0.5124 - val_acc: 0.7867\n",
      "Epoch 41/100\n",
      "100/100 [==============================] - 93s 926ms/step - loss: 0.4486 - acc: 0.7817 - val_loss: 0.4056 - val_acc: 0.7970\n",
      "Epoch 42/100\n",
      "100/100 [==============================] - 91s 912ms/step - loss: 0.4417 - acc: 0.7910 - val_loss: 0.4115 - val_acc: 0.7703\n",
      "Epoch 43/100\n",
      "100/100 [==============================] - 91s 911ms/step - loss: 0.4444 - acc: 0.7902 - val_loss: 0.4339 - val_acc: 0.7880\n",
      "Epoch 44/100\n",
      "100/100 [==============================] - 98s 976ms/step - loss: 0.4480 - acc: 0.7936 - val_loss: 0.6234 - val_acc: 0.7703\n",
      "Epoch 45/100\n",
      "100/100 [==============================] - 93s 931ms/step - loss: 0.4395 - acc: 0.7893 - val_loss: 0.5344 - val_acc: 0.7777\n",
      "Epoch 46/100\n",
      "100/100 [==============================] - 92s 916ms/step - loss: 0.4376 - acc: 0.7945 - val_loss: 0.5194 - val_acc: 0.7862\n",
      "Epoch 47/100\n",
      "100/100 [==============================] - 93s 931ms/step - loss: 0.4302 - acc: 0.8071 - val_loss: 0.5076 - val_acc: 0.7429\n",
      "Epoch 48/100\n",
      "100/100 [==============================] - 91s 914ms/step - loss: 0.4285 - acc: 0.8009 - val_loss: 0.3534 - val_acc: 0.7880\n",
      "Epoch 49/100\n",
      "100/100 [==============================] - 91s 911ms/step - loss: 0.4273 - acc: 0.7973 - val_loss: 0.6965 - val_acc: 0.7303\n",
      "Epoch 50/100\n",
      "100/100 [==============================] - 95s 953ms/step - loss: 0.4303 - acc: 0.8021 - val_loss: 0.4122 - val_acc: 0.7983\n",
      "Epoch 51/100\n",
      "100/100 [==============================] - 86s 859ms/step - loss: 0.4311 - acc: 0.8011 - val_loss: 0.4550 - val_acc: 0.8115\n",
      "Epoch 52/100\n",
      "100/100 [==============================] - 84s 839ms/step - loss: 0.4143 - acc: 0.8112 - val_loss: 0.4666 - val_acc: 0.8093\n",
      "Epoch 53/100\n",
      "100/100 [==============================] - 81s 812ms/step - loss: 0.4236 - acc: 0.8053 - val_loss: 0.3173 - val_acc: 0.8363\n",
      "Epoch 54/100\n",
      "100/100 [==============================] - 82s 815ms/step - loss: 0.4217 - acc: 0.8030 - val_loss: 0.4336 - val_acc: 0.7532\n",
      "Epoch 55/100\n",
      "100/100 [==============================] - 83s 828ms/step - loss: 0.4160 - acc: 0.8056 - val_loss: 0.4240 - val_acc: 0.7970\n",
      "Epoch 56/100\n",
      "100/100 [==============================] - 80s 801ms/step - loss: 0.4145 - acc: 0.8097 - val_loss: 0.4830 - val_acc: 0.7848\n",
      "Epoch 57/100\n",
      "100/100 [==============================] - 81s 809ms/step - loss: 0.4040 - acc: 0.8194 - val_loss: 0.4216 - val_acc: 0.8222\n",
      "Epoch 58/100\n",
      "100/100 [==============================] - 81s 811ms/step - loss: 0.4173 - acc: 0.8043 - val_loss: 0.4759 - val_acc: 0.7862\n",
      "Epoch 59/100\n",
      "100/100 [==============================] - 83s 828ms/step - loss: 0.4072 - acc: 0.8087 - val_loss: 0.5752 - val_acc: 0.7964\n",
      "Epoch 60/100\n",
      "100/100 [==============================] - 84s 836ms/step - loss: 0.3953 - acc: 0.8194 - val_loss: 0.3815 - val_acc: 0.8033\n",
      "Epoch 61/100\n",
      "100/100 [==============================] - 81s 808ms/step - loss: 0.4131 - acc: 0.8021 - val_loss: 0.3330 - val_acc: 0.7764\n",
      "Epoch 62/100\n",
      "100/100 [==============================] - 81s 812ms/step - loss: 0.4170 - acc: 0.8090 - val_loss: 0.5338 - val_acc: 0.7900\n",
      "Epoch 63/100\n",
      "100/100 [==============================] - 83s 827ms/step - loss: 0.3948 - acc: 0.8235 - val_loss: 0.3033 - val_acc: 0.8048\n",
      "Epoch 64/100\n",
      "100/100 [==============================] - 82s 818ms/step - loss: 0.3953 - acc: 0.8194 - val_loss: 0.4487 - val_acc: 0.7648\n",
      "Epoch 65/100\n",
      "100/100 [==============================] - 80s 802ms/step - loss: 0.3868 - acc: 0.8280 - val_loss: 0.6033 - val_acc: 0.8052\n",
      "Epoch 66/100\n",
      "100/100 [==============================] - 81s 807ms/step - loss: 0.3846 - acc: 0.8280 - val_loss: 0.8139 - val_acc: 0.7513\n",
      "Epoch 67/100\n",
      "100/100 [==============================] - 84s 839ms/step - loss: 0.4025 - acc: 0.8213 - val_loss: 0.2356 - val_acc: 0.8166\n",
      "Epoch 68/100\n",
      "100/100 [==============================] - 79s 792ms/step - loss: 0.3816 - acc: 0.8204 - val_loss: 0.4056 - val_acc: 0.8312\n",
      "Epoch 69/100\n",
      "100/100 [==============================] - 83s 834ms/step - loss: 0.3799 - acc: 0.8308 - val_loss: 0.3271 - val_acc: 0.8122\n",
      "Epoch 70/100\n",
      "100/100 [==============================] - 80s 800ms/step - loss: 0.3929 - acc: 0.8191 - val_loss: 0.2900 - val_acc: 0.8054\n",
      "Epoch 71/100\n",
      "100/100 [==============================] - 82s 816ms/step - loss: 0.3646 - acc: 0.8411 - val_loss: 0.4034 - val_acc: 0.7912\n",
      "Epoch 72/100\n",
      "100/100 [==============================] - 80s 799ms/step - loss: 0.3819 - acc: 0.8331 - val_loss: 0.3397 - val_acc: 0.8099\n",
      "Epoch 73/100\n",
      "100/100 [==============================] - 80s 804ms/step - loss: 0.3813 - acc: 0.8263 - val_loss: 0.5796 - val_acc: 0.8022\n",
      "Epoch 74/100\n",
      "100/100 [==============================] - 81s 813ms/step - loss: 0.3715 - acc: 0.8361 - val_loss: 0.7275 - val_acc: 0.7855\n",
      "Epoch 75/100\n",
      "100/100 [==============================] - 81s 808ms/step - loss: 0.3672 - acc: 0.8362 - val_loss: 0.6163 - val_acc: 0.8254\n",
      "Epoch 76/100\n",
      "100/100 [==============================] - 85s 847ms/step - loss: 0.3712 - acc: 0.8313 - val_loss: 0.4615 - val_acc: 0.8344\n",
      "Epoch 77/100\n",
      "100/100 [==============================] - 82s 819ms/step - loss: 0.3649 - acc: 0.8318 - val_loss: 0.7279 - val_acc: 0.8144\n",
      "Epoch 78/100\n",
      "100/100 [==============================] - 82s 823ms/step - loss: 0.3672 - acc: 0.8422 - val_loss: 0.2275 - val_acc: 0.7443\n",
      "Epoch 79/100\n",
      "100/100 [==============================] - 86s 856ms/step - loss: 0.3641 - acc: 0.8392 - val_loss: 0.4935 - val_acc: 0.8073\n",
      "Epoch 80/100\n",
      "100/100 [==============================] - 80s 805ms/step - loss: 0.3644 - acc: 0.8359 - val_loss: 0.4147 - val_acc: 0.8415\n",
      "Epoch 81/100\n",
      "100/100 [==============================] - 83s 828ms/step - loss: 0.3472 - acc: 0.8458 - val_loss: 0.3159 - val_acc: 0.8464\n",
      "Epoch 82/100\n",
      "100/100 [==============================] - 82s 818ms/step - loss: 0.3608 - acc: 0.8409 - val_loss: 0.5695 - val_acc: 0.8073\n",
      "Epoch 83/100\n",
      "100/100 [==============================] - 86s 858ms/step - loss: 0.3474 - acc: 0.8448 - val_loss: 0.6340 - val_acc: 0.8058\n",
      "Epoch 84/100\n",
      "100/100 [==============================] - 88s 877ms/step - loss: 0.3577 - acc: 0.8420 - val_loss: 0.5709 - val_acc: 0.8144\n",
      "Epoch 85/100\n",
      "100/100 [==============================] - 86s 859ms/step - loss: 0.3409 - acc: 0.8499 - val_loss: 0.3635 - val_acc: 0.8204\n",
      "Epoch 86/100\n",
      "100/100 [==============================] - 85s 853ms/step - loss: 0.3501 - acc: 0.8444 - val_loss: 0.5643 - val_acc: 0.7932\n",
      "Epoch 87/100\n",
      "100/100 [==============================] - 91s 911ms/step - loss: 0.3545 - acc: 0.8417 - val_loss: 0.3547 - val_acc: 0.8299\n",
      "Epoch 88/100\n",
      "100/100 [==============================] - 86s 857ms/step - loss: 0.3500 - acc: 0.8545 - val_loss: 0.2594 - val_acc: 0.7874\n",
      "Epoch 89/100\n",
      "100/100 [==============================] - 89s 888ms/step - loss: 0.3446 - acc: 0.8475 - val_loss: 0.4279 - val_acc: 0.7957\n",
      "Epoch 90/100\n",
      "100/100 [==============================] - 86s 858ms/step - loss: 0.3387 - acc: 0.8546 - val_loss: 0.4715 - val_acc: 0.8484\n",
      "Epoch 91/100\n",
      "100/100 [==============================] - 82s 824ms/step - loss: 0.3487 - acc: 0.8442 - val_loss: 0.3109 - val_acc: 0.8183\n",
      "Epoch 92/100\n",
      "100/100 [==============================] - 84s 840ms/step - loss: 0.3309 - acc: 0.8614 - val_loss: 0.4645 - val_acc: 0.8350\n",
      "Epoch 93/100\n",
      "100/100 [==============================] - 83s 828ms/step - loss: 0.3394 - acc: 0.8464 - val_loss: 0.3822 - val_acc: 0.8363\n",
      "Epoch 94/100\n",
      "100/100 [==============================] - 83s 834ms/step - loss: 0.3439 - acc: 0.8525 - val_loss: 0.1867 - val_acc: 0.8109\n",
      "Epoch 95/100\n",
      "100/100 [==============================] - 81s 810ms/step - loss: 0.3354 - acc: 0.8555 - val_loss: 0.4402 - val_acc: 0.8189\n",
      "Epoch 96/100\n",
      "100/100 [==============================] - 81s 807ms/step - loss: 0.3205 - acc: 0.8562 - val_loss: 0.3113 - val_acc: 0.8138\n",
      "Epoch 97/100\n",
      "100/100 [==============================] - 81s 805ms/step - loss: 0.3308 - acc: 0.8580 - val_loss: 0.5083 - val_acc: 0.8223\n",
      "Epoch 98/100\n",
      "100/100 [==============================] - 84s 841ms/step - loss: 0.3302 - acc: 0.8577 - val_loss: 0.2464 - val_acc: 0.8537\n",
      "Epoch 99/100\n",
      "100/100 [==============================] - 93s 928ms/step - loss: 0.3148 - acc: 0.8630 - val_loss: 0.4775 - val_acc: 0.8103\n",
      "Epoch 100/100\n",
      "100/100 [==============================] - 82s 822ms/step - loss: 0.3163 - acc: 0.8655 - val_loss: 0.3000 - val_acc: 0.8383\n"
     ]
    }
   ],
   "source": [
    "#利用数据增强生成器训练卷积神经网络\n",
    "train_datagen = ImageDataGenerator(\n",
    "        rescale=1./255,\n",
    "        rotation_range=40,\n",
    "        width_shift_range=0.2,\n",
    "        height_shift_range=0.2,\n",
    "        shear_range=0.2,\n",
    "        zoom_range=0.2,\n",
    "        horizontal_flip=True,)\n",
    "\n",
    "test_datagen = ImageDataGenerator(rescale=1./255)   #不能增强验证数据\n",
    "\n",
    "train_generator = train_datagen.flow_from_directory(\n",
    "        train_dir,                               #目标目录\n",
    "        target_size=(150,150),                    #将所有图像大小调整为150*150\n",
    "        batch_size=32,\n",
    "        class_mode='binary')                    #使用二进制标签\n",
    "\n",
    "validation_generator = test_datagen.flow_from_directory(\n",
    "        validation_dir,\n",
    "        target_size=(150, 150),\n",
    "        batch_size=32,\n",
    "        class_mode='binary')\n",
    "\n",
    "history = model.fit_generator(\n",
    "      train_generator,\n",
    "      steps_per_epoch=100,\n",
    "      epochs=100,\n",
    "      validation_data=validation_generator,\n",
    "      validation_steps=50)"
   ]
  },
  {
   "cell_type": "code",
   "execution_count": 25,
   "metadata": {},
   "outputs": [],
   "source": [
    "#保存模型\n",
    "model.save('cats_and_dogs_small_2.h5')"
   ]
  },
  {
   "cell_type": "code",
   "execution_count": 26,
   "metadata": {},
   "outputs": [
    {
     "data": {
      "image/png": "[encoded data removed]",
      "text/plain": [
       "<Figure size 432x288 with 1 Axes>"
      ]
     },
     "metadata": {
      "needs_background": "light"
     },
     "output_type": "display_data"
    },
    {
     "data": {
      "image/png": "[encoded data removed]",
      "text/plain": [
       "<Figure size 432x288 with 1 Axes>"
      ]
     },
     "metadata": {
      "needs_background": "light"
     },
     "output_type": "display_data"
    }
   ],
   "source": [
    "#绘制结果\n",
    "acc=history.history['acc']\n",
    "val_acc=history.history['val_acc']\n",
    "loss=history.history['loss']\n",
    "val_loss=history.history['val_loss']\n",
    "\n",
    "epochs = range(len(acc))\n",
    "\n",
    "plt.plot(epochs,acc,'bo',label='Training acc')\n",
    "plt.plot(epochs,val_acc,'b',label='Validation acc')\n",
    "plt.title('Training and validation accuracy')\n",
    "plt.legend()\n",
    "\n",
    "plt.figure()\n",
    "\n",
    "plt.plot(epochs,loss,'bo',label='Training loss')\n",
    "plt.plot(epochs,val_loss,'b',label='Validation loss')\n",
    "plt.title('Training and validation loss')\n",
    "plt.legend()\n",
    "\n",
    "plt.show()"
   ]
  }
 ],
 "metadata": {
  "kernelspec": {
   "display_name": "Python 3",
   "language": "python",
   "name": "python3"
  },
  "language_info": {
   "codemirror_mode": {
    "name": "ipython",
    "version": 3
   },
   "file_extension": ".py",
   "mimetype": "text/x-python",
   "name": "python",
   "nbconvert_exporter": "python",
   "pygments_lexer": "ipython3",
   "version": "3.7.4"
  },
  "toc": {
   "base_numbering": 1,
   "nav_menu": {},
   "number_sections": true,
   "sideBar": true,
   "skip_h1_title": false,
   "title_cell": "Table of Contents",
   "title_sidebar": "Contents",
   "toc_cell": false,
   "toc_position": {},
   "toc_section_display": true,
   "toc_window_display": false
  }
 },
 "nbformat": 4,
 "nbformat_minor": 2
}
