{
 "cells": [
  {
   "cell_type": "code",
   "execution_count": 1,
   "metadata": {},
   "outputs": [
    {
     "name": "stderr",
     "output_type": "stream",
     "text": [
      "Using TensorFlow backend.\n"
     ]
    }
   ],
   "source": [
    "import keras"
   ]
  },
  {
   "cell_type": "code",
   "execution_count": 2,
   "metadata": {},
   "outputs": [],
   "source": [
    "# 导入imdb数据，取出现最频繁的前10000个词\n",
    "from keras.datasets import imdb\n",
    "(train_data, train_labels),(test_data, test_labels) = imdb.load_data(num_words=10000)"
   ]
  },
  {
   "cell_type": "code",
   "execution_count": 3,
   "metadata": {},
   "outputs": [
    {
     "data": {
      "text/plain": [
       "[1,\n",
       " 591,\n",
       " 202,\n",
       " 14,\n",
       " 31,\n",
       " 6,\n",
       " 717,\n",
       " 10,\n",
       " 10,\n",
       " 2,\n",
       " 2,\n",
       " 5,\n",
       " 4,\n",
       " 360,\n",
       " 7,\n",
       " 4,\n",
       " 177,\n",
       " 5760,\n",
       " 394,\n",
       " 354,\n",
       " 4,\n",
       " 123,\n",
       " 9,\n",
       " 1035,\n",
       " 1035,\n",
       " 1035,\n",
       " 10,\n",
       " 10,\n",
       " 13,\n",
       " 92,\n",
       " 124,\n",
       " 89,\n",
       " 488,\n",
       " 7944,\n",
       " 100,\n",
       " 28,\n",
       " 1668,\n",
       " 14,\n",
       " 31,\n",
       " 23,\n",
       " 27,\n",
       " 7479,\n",
       " 29,\n",
       " 220,\n",
       " 468,\n",
       " 8,\n",
       " 124,\n",
       " 14,\n",
       " 286,\n",
       " 170,\n",
       " 8,\n",
       " 157,\n",
       " 46,\n",
       " 5,\n",
       " 27,\n",
       " 239,\n",
       " 16,\n",
       " 179,\n",
       " 2,\n",
       " 38,\n",
       " 32,\n",
       " 25,\n",
       " 7944,\n",
       " 451,\n",
       " 202,\n",
       " 14,\n",
       " 6,\n",
       " 717]"
      ]
     },
     "execution_count": 3,
     "metadata": {},
     "output_type": "execute_result"
    }
   ],
   "source": [
    "test_data[0]"
   ]
  },
  {
   "cell_type": "code",
   "execution_count": 4,
   "metadata": {},
   "outputs": [
    {
     "data": {
      "text/plain": [
       "1"
      ]
     },
     "execution_count": 4,
     "metadata": {},
     "output_type": "execute_result"
    }
   ],
   "source": [
    "train_labels[0]"
   ]
  },
  {
   "cell_type": "code",
   "execution_count": 5,
   "metadata": {},
   "outputs": [
    {
     "data": {
      "text/plain": [
       "9999"
      ]
     },
     "execution_count": 5,
     "metadata": {},
     "output_type": "execute_result"
    }
   ],
   "source": [
    "# 数字的索引不会超过10000，因为取得是最频繁的前10000词\n",
    "max([max(sequence) for sequence in train_data])"
   ]
  },
  {
   "cell_type": "code",
   "execution_count": 6,
   "metadata": {},
   "outputs": [],
   "source": [
    "# 将评论解码为英文\n",
    "word_index = imdb.get_word_index() # word_index是一个将单词映射为整数索引的字典\n",
    "# 键值颠倒，将整数索引映射为单词\n",
    "reverse_word_index = dict([(value,key) for (key,value) in word_index.items()])\n",
    "# 将评论解码\n",
    "#索引减去3是因为0、1、2为padding(填充）、start of sequence(序列开始)、unknow(未知词)分别保留的索引\n",
    "decoded_review = ' '.join([reverse_word_index.get(i-3,'?') for i in train_data[0]])"
   ]
  },
  {
   "cell_type": "code",
   "execution_count": 7,
   "metadata": {},
   "outputs": [
    {
     "data": {
      "text/plain": [
       "\"? this film was just brilliant casting location scenery story direction everyone's really suited the part they played and you could just imagine being there robert ? is an amazing actor and now the same being director ? father came from the same scottish island as myself so i loved the fact there was a real connection with this film the witty remarks throughout the film were great it was just brilliant so much that i bought the film as soon as it was released for ? and would recommend it to everyone to watch and the fly fishing was amazing really cried at the end it was so sad and you know what they say if you cry at a film it must have been good and this definitely was also ? to the two little boy's that played the ? of norman and paul they were just brilliant children are often left out of the ? list i think because the stars that play them all grown up are such a big profile for the whole film but these children are amazing and should be praised for what they have done don't you think the whole story was so lovely because it was true and was someone's life after all that was shared with us all\""
      ]
     },
     "execution_count": 7,
     "metadata": {},
     "output_type": "execute_result"
    }
   ],
   "source": [
    "decoded_review"
   ]
  },
  {
   "cell_type": "markdown",
   "metadata": {},
   "source": [
    "准备数据"
   ]
  },
  {
   "cell_type": "code",
   "execution_count": 12,
   "metadata": {},
   "outputs": [],
   "source": [
    "import numpy as np\n",
    "\n",
    "def vectorize_sequences(sequences, dimension=10000):\n",
    "    results = np.zeros((len(sequences),dimension))        # 创建一个(len(sequences),dimension)形状的零矩阵\n",
    "    for i, sequence in enumerate(sequences):\n",
    "        results[i,sequence] = 1\n",
    "    return results\n",
    "x_train = vectorize_sequences(train_data)         # 训练数据向量化\n",
    "x_test = vectorize_sequences(test_data)              # 测试数据向量化  "
   ]
  },
  {
   "cell_type": "code",
   "execution_count": 13,
   "metadata": {},
   "outputs": [
    {
     "data": {
      "text/plain": [
       "array([0., 1., 1., ..., 0., 0., 0.])"
      ]
     },
     "execution_count": 13,
     "metadata": {},
     "output_type": "execute_result"
    }
   ],
   "source": [
    "x_train[0]"
   ]
  },
  {
   "cell_type": "code",
   "execution_count": 14,
   "metadata": {},
   "outputs": [],
   "source": [
    "# 标签向量化\n",
    "y_train = np.asarray(train_labels).astype('float32')\n",
    "y_test = np.asarray(test_labels).astype('float32')"
   ]
  },
  {
   "cell_type": "markdown",
   "metadata": {},
   "source": [
    "构建网络"
   ]
  },
  {
   "cell_type": "code",
   "execution_count": 15,
   "metadata": {},
   "outputs": [],
   "source": [
    "# 模型定义\n",
    "from keras import models \n",
    "from keras import layers\n",
    "\n",
    "model = models.Sequential()\n",
    "model.add(layers.Dense(16, activation='relu',input_shape=(10000,)))\n",
    "model.add(layers.Dense(16,activation='relu'))\n",
    "model.add(layers.Dense(1,activation='sigmoid'))"
   ]
  },
  {
   "cell_type": "code",
   "execution_count": 21,
   "metadata": {},
   "outputs": [],
   "source": [
    "#编译模型\n",
    "model.compile(optimizer='rmsprop', loss='binary_crossentropy', metrics=['accuracy'])"
   ]
  },
  {
   "cell_type": "code",
   "execution_count": 18,
   "metadata": {},
   "outputs": [],
   "source": [
    "# 配置优化器\n",
    "from keras import optimizers\n",
    "\n",
    "model.compile(optimizer=optimizers.RMSprop(lr=0.001), loss='binary_crossentropy', metrics=['accuracy'])"
   ]
  },
  {
   "cell_type": "code",
   "execution_count": 19,
   "metadata": {},
   "outputs": [],
   "source": [
    "# 自定义损失和指标\n",
    "from keras import losses\n",
    "from keras import metrics\n",
    "\n",
    "model.compile(optimizer=optimizers.RMSprop(lr=0.001), loss=losses.binary_crossentropy, metrics=[metrics.binary_accuracy])"
   ]
  },
  {
   "cell_type": "markdown",
   "metadata": {},
   "source": [
    "验证"
   ]
  },
  {
   "cell_type": "code",
   "execution_count": 20,
   "metadata": {},
   "outputs": [],
   "source": [
    "# 留出10000个样本作为验证集\n",
    "x_value = x_train[:10000]\n",
    "partial_x_train = x_train[10000:]\n",
    "\n",
    "y_value = y_train[:10000]\n",
    "partial_y_train = y_train[10000:]"
   ]
  },
  {
   "cell_type": "code",
   "execution_count": 22,
   "metadata": {},
   "outputs": [
    {
     "name": "stdout",
     "output_type": "stream",
     "text": [
      "Train on 15000 samples, validate on 10000 samples\n",
      "Epoch 1/20\n",
      "15000/15000 [==============================] - 3s 233us/step - loss: 0.5384 - accuracy: 0.7799 - val_loss: 0.4441 - val_accuracy: 0.8267\n",
      "Epoch 2/20\n",
      "15000/15000 [==============================] - 3s 184us/step - loss: 0.3313 - accuracy: 0.9001 - val_loss: 0.3391 - val_accuracy: 0.8707\n",
      "Epoch 3/20\n",
      "15000/15000 [==============================] - 3s 184us/step - loss: 0.2423 - accuracy: 0.9270 - val_loss: 0.2994 - val_accuracy: 0.8821\n",
      "Epoch 4/20\n",
      "15000/15000 [==============================] - 3s 185us/step - loss: 0.1926 - accuracy: 0.9393 - val_loss: 0.2739 - val_accuracy: 0.8904\n",
      "Epoch 5/20\n",
      "15000/15000 [==============================] - 3s 185us/step - loss: 0.1559 - accuracy: 0.9507 - val_loss: 0.2765 - val_accuracy: 0.8873\n",
      "Epoch 6/20\n",
      "15000/15000 [==============================] - 3s 187us/step - loss: 0.1285 - accuracy: 0.9605 - val_loss: 0.2961 - val_accuracy: 0.8830\n",
      "Epoch 7/20\n",
      "15000/15000 [==============================] - 3s 189us/step - loss: 0.1066 - accuracy: 0.9697 - val_loss: 0.2999 - val_accuracy: 0.8852\n",
      "Epoch 8/20\n",
      "15000/15000 [==============================] - 3s 186us/step - loss: 0.0873 - accuracy: 0.9734 - val_loss: 0.3196 - val_accuracy: 0.8838\n",
      "Epoch 9/20\n",
      "15000/15000 [==============================] - 3s 198us/step - loss: 0.0710 - accuracy: 0.9823 - val_loss: 0.3428 - val_accuracy: 0.8801\n",
      "Epoch 10/20\n",
      "15000/15000 [==============================] - 3s 186us/step - loss: 0.0547 - accuracy: 0.9868 - val_loss: 0.3677 - val_accuracy: 0.8778\n",
      "Epoch 11/20\n",
      "15000/15000 [==============================] - 3s 184us/step - loss: 0.0475 - accuracy: 0.9883 - val_loss: 0.4014 - val_accuracy: 0.8715\n",
      "Epoch 12/20\n",
      "15000/15000 [==============================] - 3s 185us/step - loss: 0.0365 - accuracy: 0.9923 - val_loss: 0.4688 - val_accuracy: 0.8702\n",
      "Epoch 13/20\n",
      "15000/15000 [==============================] - 3s 185us/step - loss: 0.0299 - accuracy: 0.9948 - val_loss: 0.4505 - val_accuracy: 0.8774\n",
      "Epoch 14/20\n",
      "15000/15000 [==============================] - 3s 210us/step - loss: 0.0226 - accuracy: 0.9965 - val_loss: 0.4803 - val_accuracy: 0.8743\n",
      "Epoch 15/20\n",
      "15000/15000 [==============================] - 3s 184us/step - loss: 0.0186 - accuracy: 0.9969 - val_loss: 0.5133 - val_accuracy: 0.8701\n",
      "Epoch 16/20\n",
      "15000/15000 [==============================] - 3s 185us/step - loss: 0.0139 - accuracy: 0.9985 - val_loss: 0.5544 - val_accuracy: 0.86490s - los\n",
      "Epoch 17/20\n",
      "15000/15000 [==============================] - 3s 188us/step - loss: 0.0098 - accuracy: 0.9992 - val_loss: 0.5797 - val_accuracy: 0.8679\n",
      "Epoch 18/20\n",
      "15000/15000 [==============================] - 3s 184us/step - loss: 0.0106 - accuracy: 0.9985 - val_loss: 0.6145 - val_accuracy: 0.8685\n",
      "Epoch 19/20\n",
      "15000/15000 [==============================] - 3s 188us/step - loss: 0.0045 - accuracy: 0.9999 - val_loss: 0.6531 - val_accuracy: 0.8642\n",
      "Epoch 20/20\n",
      "15000/15000 [==============================] - 3s 185us/step - loss: 0.0052 - accuracy: 0.9995 - val_loss: 0.6871 - val_accuracy: 0.8662\n"
     ]
    }
   ],
   "source": [
    "#训练模型\n",
    "history = model.fit(partial_x_train,partial_y_train,epochs=20,batch_size=512,validation_data=(x_value,y_value))"
   ]
  },
  {
   "cell_type": "code",
   "execution_count": 25,
   "metadata": {},
   "outputs": [
    {
     "data": {
      "text/plain": [
       "dict_keys(['val_loss', 'val_accuracy', 'loss', 'accuracy'])"
      ]
     },
     "execution_count": 25,
     "metadata": {},
     "output_type": "execute_result"
    }
   ],
   "source": [
    "history_dict = history.history\n",
    "history_dict.keys()"
   ]
  },
  {
   "cell_type": "code",
   "execution_count": 29,
   "metadata": {},
   "outputs": [
    {
     "data": {
      "image/png": "[encoded data removed]",
      "text/plain": [
       "<Figure size 432x288 with 1 Axes>"
      ]
     },
     "metadata": {
      "needs_background": "light"
     },
     "output_type": "display_data"
    }
   ],
   "source": [
    "#绘制训练损失和验证损失\n",
    "import matplotlib.pyplot as plt\n",
    "acc = history.history['accuracy']\n",
    "val_accuracy = history.history['val_accuracy']\n",
    "loss = history.history['loss']\n",
    "val_loss = history.history['val_loss']\n",
    "\n",
    "epochs = range(1,len(acc)+1)\n",
    "\n",
    "plt.plot(epochs,loss,'bo',label='Training loss')   # bo表示蓝色圆点\n",
    "plt.plot(epochs,val_loss,'b',label='Validation loss')  # b表示蓝色实线\n",
    "plt.title('Training and validation loss')\n",
    "plt.xlabel('Epochs')\n",
    "plt.ylabel('Loss')\n",
    "plt.legend()               # 加上图例\n",
    "plt.show()"
   ]
  },
  {
   "cell_type": "code",
   "execution_count": 31,
   "metadata": {},
   "outputs": [
    {
     "data": {
      "image/png": "[encoded data removed]",
      "text/plain": [
       "<Figure size 432x288 with 1 Axes>"
      ]
     },
     "metadata": {
      "needs_background": "light"
     },
     "output_type": "display_data"
    }
   ],
   "source": [
    "# 绘制训练精度和验证精度\n",
    "plt.clf()  # 清空图像\n",
    "acc = history_dict['accuracy']\n",
    "val_accuracy = history.history['val_accuracy']\n",
    "loss = history.history['loss']\n",
    "val_loss = history.history['val_loss']\n",
    "\n",
    "epochs = range(1,len(acc)+1)\n",
    "\n",
    "plt.plot(epochs,acc,'bo',label='Training accuracy')   # bo表示蓝色圆点\n",
    "plt.plot(epochs,val_accuracy,'b',label='Validation accuracy')  # b表示蓝色实线\n",
    "plt.title('Training and validation accuracy')\n",
    "plt.xlabel('Epochs')\n",
    "plt.ylabel('Loss')\n",
    "plt.legend()               # 加上图例\n",
    "plt.show()"
   ]
  },
  {
   "cell_type": "code",
   "execution_count": 36,
   "metadata": {},
   "outputs": [
    {
     "name": "stdout",
     "output_type": "stream",
     "text": [
      "Epoch 1/4\n",
      "25000/25000 [==============================] - 3s 123us/step - loss: 0.4434 - accuracy: 0.8176\n",
      "Epoch 2/4\n",
      "25000/25000 [==============================] - 3s 116us/step - loss: 0.2549 - accuracy: 0.9093\n",
      "Epoch 3/4\n",
      "25000/25000 [==============================] - 3s 118us/step - loss: 0.1990 - accuracy: 0.92980s - los\n",
      "Epoch 4/4\n",
      "25000/25000 [==============================] - 3s 117us/step - loss: 0.1679 - accuracy: 0.9410\n",
      "25000/25000 [==============================] - 3s 133us/step\n"
     ]
    }
   ],
   "source": [
    "# 上图显示验证损失和验证精度并没有随迭代越来越小\n",
    "# 重新训练模型\n",
    "model = models.Sequential()\n",
    "model.add(layers.Dense(16, activation='relu', input_shape=(10000,)))\n",
    "model.add(layers.Dense(16, activation='relu'))\n",
    "model.add(layers.Dense(1, activation='sigmoid'))\n",
    "\n",
    "model.compile(optimizer='rmsprop',\n",
    "              loss='binary_crossentropy',\n",
    "              metrics=['accuracy'])\n",
    "\n",
    "model.fit(x_train, y_train, epochs=4, batch_size=512)\n",
    "results = model.evaluate(x_test, y_test)"
   ]
  },
  {
   "cell_type": "code",
   "execution_count": 33,
   "metadata": {},
   "outputs": [
    {
     "data": {
      "text/plain": [
       "[0.3199080088806152, 0.8751599788665771]"
      ]
     },
     "execution_count": 33,
     "metadata": {},
     "output_type": "execute_result"
    }
   ],
   "source": [
    "results"
   ]
  },
  {
   "cell_type": "markdown",
   "metadata": {},
   "source": [
    "使用训练好的模型在新数据上生成测试结果"
   ]
  },
  {
   "cell_type": "code",
   "execution_count": 34,
   "metadata": {},
   "outputs": [
    {
     "data": {
      "text/plain": [
       "array([[0.16828996],\n",
       "       [0.9995204 ],\n",
       "       [0.5340858 ],\n",
       "       ...,\n",
       "       [0.07892472],\n",
       "       [0.04797325],\n",
       "       [0.4540244 ]], dtype=float32)"
      ]
     },
     "execution_count": 34,
     "metadata": {},
     "output_type": "execute_result"
    }
   ],
   "source": [
    "model.predict(x_test)"
   ]
  }
 ],
 "metadata": {
  "kernelspec": {
   "display_name": "Python 3",
   "language": "python",
   "name": "python3"
  },
  "language_info": {
   "codemirror_mode": {
    "name": "ipython",
    "version": 3
   },
   "file_extension": ".py",
   "mimetype": "text/x-python",
   "name": "python",
   "nbconvert_exporter": "python",
   "pygments_lexer": "ipython3",
   "version": "3.7.4"
  },
  "toc": {
   "base_numbering": 1,
   "nav_menu": {},
   "number_sections": true,
   "sideBar": true,
   "skip_h1_title": false,
   "title_cell": "Table of Contents",
   "title_sidebar": "Contents",
   "toc_cell": false,
   "toc_position": {},
   "toc_section_display": true,
   "toc_window_display": false
  }
 },
 "nbformat": 4,
 "nbformat_minor": 2
}
