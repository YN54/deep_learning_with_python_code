{
 "cells": [
  {
   "cell_type": "code",
   "execution_count": 1,
   "metadata": {},
   "outputs": [
    {
     "name": "stderr",
     "output_type": "stream",
     "text": [
      "Using TensorFlow backend.\n"
     ]
    }
   ],
   "source": [
    "import keras"
   ]
  },
  {
   "cell_type": "code",
   "execution_count": 4,
   "metadata": {},
   "outputs": [],
   "source": [
    "#单词级的one-hot编码\n",
    "import numpy as np\n",
    "\n",
    "#初始数据：每个样本是列表的一个元素\n",
    "samples = ['The cat sat on the mat.', 'The dog ate my homework.']\n",
    "\n",
    "token_index={}  #构建数据中所有标记的索引\n",
    "for sample in samples:\n",
    "    for word in sample.split():     #利用split方法对样本进行分词，实际应用中还需从样本中去掉标记和特殊字符\n",
    "        if word not in token_index:\n",
    "            token_index[word] = len(token_index)+1       #为每个唯一单词指定一个唯一索引，没有为索引编号0指定单词\n",
    "\n",
    "max_length = 10   #对样本进行分词，只考虑每个样本前max_length个单词\n",
    "\n",
    "results = np.zeros((len(samples),max_length,max(token_index.values())+1))  #将结果保存在results\n",
    "\n",
    "for i,sample in enumerate(samples):\n",
    "    for j,word in list(enumerate(sample.split()))[:max_length]:\n",
    "        index = token_index.get(word)\n",
    "        results[i,j,index]=1 "
   ]
  },
  {
   "cell_type": "code",
   "execution_count": 5,
   "metadata": {},
   "outputs": [],
   "source": [
    "#字符级的one-hot编码\n",
    "import string\n",
    "\n",
    "samples = ['The cat sat on the mat.', 'The dog ate my homework.']\n",
    "characters = string.printable                         # 所有可打印的ASCII字符\n",
    "token_index = dict(zip(characters, range(1, len(characters) + 1)))\n",
    "\n",
    "max_length = 50\n",
    "results = np.zeros((len(samples), max_length, max(token_index.values()) + 1))\n",
    "for i, sample in enumerate(samples):\n",
    "    for j, character in enumerate(sample[:max_length]):\n",
    "        index = token_index.get(character)\n",
    "        results[i, j, index] = 1."
   ]
  },
  {
   "cell_type": "code",
   "execution_count": 6,
   "metadata": {},
   "outputs": [
    {
     "name": "stdout",
     "output_type": "stream",
     "text": [
      "Found 9 unique tokens.\n"
     ]
    }
   ],
   "source": [
    "#用Keras实现单词级的one-hot编码\n",
    "from keras.preprocessing.text import Tokenizer\n",
    "samples = ['The cat sat on the mat.', 'The dog ate my homework.']\n",
    "tokenizer = Tokenizer(num_words=1000)        #创建一个分词器设置为只考虑前1000个最常用单词\n",
    "tokenizer.fit_on_texts(samples)        #构建单词索引\n",
    "sequences = tokenizer.texts_to_sequences(samples)    #将字符串转换为整数索引组成的列表\n",
    "one_hot_results = tokenizer.texts_to_matrix(samples,mode='binary') #也可以直接得到one-hot二进制表示\n",
    "word_index = tokenizer.word_index  #找回单词索引\n",
    "print('Found %s unique tokens.' %len(word_index))"
   ]
  },
  {
   "cell_type": "code",
   "execution_count": 7,
   "metadata": {},
   "outputs": [],
   "source": [
    "#使用散列技巧的单词级的one-hot编码\n",
    "samples = ['The cat sat on the mat.', 'The dog ate my homework.']\n",
    "#将单词保存为长度为1000的向量，若单词数量接近1000个（或更多）那么会遇到很多散列冲突，会降低这种编码方法的准确性\n",
    "dimensionality = 1000\n",
    "max_length = 10\n",
    "results = np.zeros((len(samples), max_length, dimensionality))\n",
    "for i, sample in enumerate(samples):\n",
    "    for j, word in list(enumerate(sample.split()))[:max_length]:\n",
    "        #将单词散列为0-1000范围内的一个随机整数索引\n",
    "        index = abs(hash(word)) % dimensionality\n",
    "        results[i, j, index] = 1."
   ]
  }
 ],
 "metadata": {
  "kernelspec": {
   "display_name": "Python 3",
   "language": "python",
   "name": "python3"
  },
  "language_info": {
   "codemirror_mode": {
    "name": "ipython",
    "version": 3
   },
   "file_extension": ".py",
   "mimetype": "text/x-python",
   "name": "python",
   "nbconvert_exporter": "python",
   "pygments_lexer": "ipython3",
   "version": "3.7.4"
  },
  "toc": {
   "base_numbering": 1,
   "nav_menu": {},
   "number_sections": true,
   "sideBar": true,
   "skip_h1_title": false,
   "title_cell": "Table of Contents",
   "title_sidebar": "Contents",
   "toc_cell": false,
   "toc_position": {},
   "toc_section_display": true,
   "toc_window_display": false
  }
 },
 "nbformat": 4,
 "nbformat_minor": 2
}
